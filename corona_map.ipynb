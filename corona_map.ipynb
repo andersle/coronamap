{
 "cells": [
  {
   "cell_type": "code",
   "execution_count": null,
   "metadata": {},
   "outputs": [],
   "source": [
    "from tqdm.notebook import tqdm\n",
    "from make_map import (\n",
    "    get_url_xls,\n",
    "    download_if_needed,\n",
    "    load_countries,\n",
    "    read_raw_data,\n",
    "    add_cumulative,\n",
    "    read_population,\n",
    "    norm_population,\n",
    ")\n",
    "from map_basics import create_folium_choropleth, COLOR_MAPS"
   ]
  },
  {
   "cell_type": "code",
   "execution_count": null,
   "metadata": {},
   "outputs": [],
   "source": [
    "# Load the raw data:\n",
    "xls, filename = get_url_xls()\n",
    "download_if_needed(xls, filename, progress=tqdm)\n",
    "raw_data, dates = read_raw_data(filename)\n",
    "data = add_cumulative(raw_data, dates)\n",
    "population = read_population()\n",
    "norm_population(data, population)"
   ]
  },
  {
   "cell_type": "code",
   "execution_count": null,
   "metadata": {},
   "outputs": [],
   "source": [
    "# Remove countries with few inhabitants:\n",
    "small = population.loc[population['Population_2020'] < 200]\n",
    "skip = small['Region'].values\n",
    "print('Removing countries:', skip)\n",
    "for i in skip:\n",
    "    data.drop(data.loc[data['CountryExp']==i].index, inplace=True)"
   ]
  },
  {
   "cell_type": "code",
   "execution_count": null,
   "metadata": {},
   "outputs": [],
   "source": [
    "# Load geojson features:\n",
    "_, merged_layers, country_map = load_countries()"
   ]
  },
  {
   "cell_type": "code",
   "execution_count": null,
   "metadata": {},
   "outputs": [],
   "source": [
    "# Available color maps can be listed using\n",
    "# print(COLOR_MAPS.keys())\n",
    "# Some examples: RdPu_09, YlOrRd_05. Reds_08\n",
    "map_settings = {\n",
    "    'zoom': 2,\n",
    "    'center': [25, 10],\n",
    "    'color_map': 'Reds_03',\n",
    "    'column': 'cases_per_capita',\n",
    "    'column_name': 'Cases per 100,000 capita',\n",
    "    'logscale': True,\n",
    "    'threshold': None,\n",
    "}"
   ]
  },
  {
   "cell_type": "code",
   "execution_count": null,
   "metadata": {},
   "outputs": [],
   "source": [
    "the_map = create_folium_choropleth(\n",
    "        merged_layers,\n",
    "        data,\n",
    "        map_settings,\n",
    ")\n",
    "the_map.save('slider.html')\n",
    "the_map"
   ]
  },
  {
   "cell_type": "code",
   "execution_count": null,
   "metadata": {},
   "outputs": [],
   "source": [
    "map_settings = {\n",
    "    'zoom': 2,\n",
    "    'center': [25, 10],\n",
    "    'color_map': 'Reds_05',\n",
    "    'column': 'new_cases_per_capita',\n",
    "    'column_name': 'New cases per million capita',\n",
    "    'logscale': True,\n",
    "    'threshold': None,\n",
    "}"
   ]
  },
  {
   "cell_type": "code",
   "execution_count": null,
   "metadata": {},
   "outputs": [],
   "source": [
    "the_map_norm = create_folium_choropleth(\n",
    "        merged_layers,\n",
    "        data,\n",
    "        map_settings,\n",
    ")\n",
    "the_map_norm.save('slider_normed.html')\n",
    "the_map_norm"
   ]
  }
 ],
 "metadata": {
  "kernelspec": {
   "display_name": "Python 3",
   "language": "python",
   "name": "python3"
  },
  "language_info": {
   "codemirror_mode": {
    "name": "ipython",
    "version": 3
   },
   "file_extension": ".py",
   "mimetype": "text/x-python",
   "name": "python",
   "nbconvert_exporter": "python",
   "pygments_lexer": "ipython3",
   "version": "3.8.0"
  }
 },
 "nbformat": 4,
 "nbformat_minor": 4
}
