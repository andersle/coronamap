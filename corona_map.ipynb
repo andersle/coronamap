{
 "cells": [
  {
   "cell_type": "code",
   "execution_count": null,
   "metadata": {},
   "outputs": [],
   "source": [
    "from tqdm.notebook import tqdm\n",
    "from make_map import (\n",
    "    get_url_xls,\n",
    "    download_if_needed,\n",
    "    load_countries,\n",
    "    read_raw_data,\n",
    "    add_cumulative,\n",
    ")\n",
    "from map_basics import create_folium_choropleth"
   ]
  },
  {
   "cell_type": "code",
   "execution_count": null,
   "metadata": {},
   "outputs": [],
   "source": [
    "# Load the raw data:\n",
    "xls, filename = get_url_xls()\n",
    "download_if_needed(xls, filename, progress=tqdm)\n",
    "raw_data, dates = read_raw_data(filename)\n",
    "data = add_cumulative(raw_data, dates)"
   ]
  },
  {
   "cell_type": "code",
   "execution_count": null,
   "metadata": {},
   "outputs": [],
   "source": [
    "# Load geojson features:\n",
    "_, merged_layers, country_map = load_countries()"
   ]
  },
  {
   "cell_type": "code",
   "execution_count": null,
   "metadata": {},
   "outputs": [],
   "source": [
    "map_settings = {\n",
    "    'zoom': 2,\n",
    "    'center': [25, 10],\n",
    "    'color_map': 'Reds_05',\n",
    "    'column': 'cases',\n",
    "    'column_name': 'Cases',\n",
    "    'logscale': True,\n",
    "    'threshold': None,\n",
    "}"
   ]
  },
  {
   "cell_type": "code",
   "execution_count": null,
   "metadata": {},
   "outputs": [],
   "source": [
    "the_map = create_folium_choropleth(\n",
    "        merged_layers,\n",
    "        data,\n",
    "        map_settings,\n",
    ")\n",
    "the_map.save('slider.html')"
   ]
  },
  {
   "cell_type": "code",
   "execution_count": null,
   "metadata": {},
   "outputs": [],
   "source": [
    "the_map"
   ]
  }
 ],
 "metadata": {
  "kernelspec": {
   "display_name": "Python 3",
   "language": "python",
   "name": "python3"
  },
  "language_info": {
   "codemirror_mode": {
    "name": "ipython",
    "version": 3
   },
   "file_extension": ".py",
   "mimetype": "text/x-python",
   "name": "python",
   "nbconvert_exporter": "python",
   "pygments_lexer": "ipython3",
   "version": "3.8.0"
  }
 },
 "nbformat": 4,
 "nbformat_minor": 4
}
